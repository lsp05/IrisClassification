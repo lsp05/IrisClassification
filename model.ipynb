{
 "cells": [
  {
   "cell_type": "code",
   "execution_count": null,
   "metadata": {},
   "outputs": [],
   "source": [
    "import torch\n",
    "import torch.nn as nn\n",
    "import torch.nn.functional as F\n",
    "import numpy as np\n",
    "from ucimlrepo import fetch_ucirepo "
   ]
  },
  {
   "cell_type": "code",
   "execution_count": null,
   "metadata": {},
   "outputs": [],
   "source": [
    "# Create a model class that inherits nn.Module\n",
    "class Model(nn.Module):\n",
    "    # input layer (4 different types of flower features)\n",
    "    # hidden layer 1 (some number of neurons)\n",
    "    # hidden layer 2 (some number of neurons)\n",
    "    # output layer (3 different types of possible flowers)\n",
    "    def __init__(self, in_features=4, h1=7, h2=9, out_features=3):\n",
    "        super().__init__() # instantiate our nn.Module\n",
    "        self.fc1 = nn.Linear(in_features, h1)\n",
    "        #self.fc2 = nn.Linear(h1, h2)\n",
    "        self.out = nn.Linear(h1, out_features)\n",
    "\n",
    "    def forward(self, x):\n",
    "        x = F.relu(self.fc1(x))\n",
    "        #x = F.relu(self.fc2(x))\n",
    "        x = F.relu(self.out(x))\n",
    "\n",
    "        return x\n"
   ]
  },
  {
   "cell_type": "code",
   "execution_count": null,
   "metadata": {},
   "outputs": [],
   "source": [
    "# Pick a manual seed for randomization\n",
    "torch.manual_seed(41)\n",
    "model = Model()"
   ]
  },
  {
   "cell_type": "code",
   "execution_count": null,
   "metadata": {},
   "outputs": [],
   "source": [
    "import pandas as pd\n",
    "import matplotlib.pyplot as plt"
   ]
  },
  {
   "cell_type": "code",
   "execution_count": null,
   "metadata": {},
   "outputs": [],
   "source": [
    "my_df = fetch_ucirepo(id=53)\n",
    "\n",
    "# data as pandas dataframes\n",
    "X = my_df.data.features\n",
    "Y = my_df.data.targets\n",
    "\n",
    "\n",
    "# Convert these values to numpy arrays\n",
    "X = X.values\n",
    "Y = Y.values\n",
    "\n",
    "from sklearn.model_selection import train_test_split\n",
    "from sklearn.preprocessing import LabelEncoder\n",
    "\n",
    "\n",
    "# Encode target labels\n",
    "label_encoder = LabelEncoder()\n",
    "Y = label_encoder.fit_transform(Y)\n",
    "\n",
    "# Train Test Split\n",
    "X_train, X_test, Y_train, Y_test = train_test_split(X, Y, test_size = 0.2, random_state = 41)\n",
    "\n",
    "# convert X features to float tensors\n",
    "X_train = torch.FloatTensor(X_train)\n",
    "X_test = torch.FloatTensor(X_test)\n",
    "\n",
    "# convert Y labels to tensors\n",
    "Y_train = torch.LongTensor(Y_train)\n",
    "Y_test = torch.LongTensor(Y_test)"
   ]
  },
  {
   "cell_type": "code",
   "execution_count": null,
   "metadata": {},
   "outputs": [],
   "source": [
    "# Set the criterion of model to measure the error\n",
    "\n",
    "criterion = nn.CrossEntropyLoss()\n",
    "# Choose Adam optimizer, lr = learning rate (if error does not go down after a bunch of iterations (epochs) lower learning rate)\n",
    "optimizer = torch.optim.Adam(model.parameters(), lr=0.01)\n",
    "\n",
    "# Train our model\n",
    "# Epochs? (one run through all the training data in our network)\n",
    "epochs = 130\n",
    "losses = []\n",
    "for i in range(epochs):\n",
    "    # go forward and get a prediction\n",
    "    y_pred = model(X_train) # Get predicited results\n",
    "\n",
    "    # measure the loss/error, will be high at first\n",
    "    loss = criterion(y_pred, Y_train) # predicted value vs the y_train\n",
    "\n",
    "    # keep track of our losses\n",
    "    losses.append(loss.detach().numpy())\n",
    "\n",
    "    # print every 10 epochs\n",
    "    if(i % 10 == 0):\n",
    "        print(f\"Epoch: {i} and loss: {loss}\")\n",
    "    \n",
    "    # Do backpropogation\n",
    "    optimizer.zero_grad()\n",
    "    loss.backward()\n",
    "    optimizer.step()\n"
   ]
  },
  {
   "cell_type": "code",
   "execution_count": null,
   "metadata": {},
   "outputs": [],
   "source": [
    "# Graph it \n",
    "plt.plot(range(epochs), losses)\n",
    "plt.ylabel(\"loss/error\")\n",
    "plt.xlabel(\"epochs\")"
   ]
  },
  {
   "cell_type": "code",
   "execution_count": null,
   "metadata": {},
   "outputs": [],
   "source": [
    "# Evaluate Model on Test Data Set (validate model on test set)\n",
    "with torch.no_grad():\n",
    "    Y_eval = model.forward(X_test) # X_test are features from our test set, y_eval will be predictions\n",
    "    loss = criterion(Y_eval, Y_test) # Find the loss or error\n",
    "loss"
   ]
  },
  {
   "cell_type": "code",
   "execution_count": null,
   "metadata": {},
   "outputs": [],
   "source": [
    "correct = 0\n",
    "with torch.no_grad():\n",
    "    for i, data in enumerate(X_test):\n",
    "        y_val = model.forward(data)\n",
    "\n",
    "        print(f\"{i+1} {str(y_val)} \\t {Y_test[i]} \\t {y_val.argmax().item()}\")\n",
    "\n",
    "        if y_val.argmax().item() == Y_test[i]:\n",
    "            correct += 1\n",
    "\n",
    "print(f\"we got {correct} correct\")"
   ]
  },
  {
   "cell_type": "code",
   "execution_count": null,
   "metadata": {},
   "outputs": [],
   "source": [
    "# how to test with new data\n",
    "new_iris = torch.tensor([4.7, 3.2, 1.3, 0.2])\n",
    "with torch.no_grad():\n",
    "    print(model(new_iris))"
   ]
  },
  {
   "cell_type": "code",
   "execution_count": null,
   "metadata": {},
   "outputs": [],
   "source": [
    "# save the model\n",
    "torch.save(model.state_dict(), 'my_awesome_model.pt')"
   ]
  },
  {
   "cell_type": "code",
   "execution_count": null,
   "metadata": {},
   "outputs": [],
   "source": [
    "# load the saved model\n",
    "new_model = Model()\n",
    "new_model.load_state_dict(torch.load('my_awesome_model.pt'))"
   ]
  },
  {
   "cell_type": "code",
   "execution_count": null,
   "metadata": {},
   "outputs": [],
   "source": [
    "# make sure it loaded correctly\n",
    "new_model.eval()"
   ]
  }
 ],
 "metadata": {
  "kernelspec": {
   "display_name": ".venv",
   "language": "python",
   "name": "python3"
  },
  "language_info": {
   "codemirror_mode": {
    "name": "ipython",
    "version": 3
   },
   "file_extension": ".py",
   "mimetype": "text/x-python",
   "name": "python",
   "nbconvert_exporter": "python",
   "pygments_lexer": "ipython3",
   "version": "3.12.7"
  }
 },
 "nbformat": 4,
 "nbformat_minor": 2
}
